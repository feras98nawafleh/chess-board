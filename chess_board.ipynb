{
 "cells": [
  {
   "cell_type": "code",
   "execution_count": 97,
   "metadata": {},
   "outputs": [],
   "source": [
    "import numpy as np\n",
    "\n",
    "%matplotlib inline\n",
    "import matplotlib.pyplot as plt"
   ]
  },
  {
   "cell_type": "markdown",
   "metadata": {},
   "source": [
    "# ChessBoard class"
   ]
  },
  {
   "cell_type": "code",
   "execution_count": 98,
   "metadata": {},
   "outputs": [],
   "source": [
    "class ChessBoard:\n",
    "    \n",
    "    def __init__(self):\n",
    "        self.red = [255, 0, 0]\n",
    "        self.blue = [0, 0, 255]\n",
    "        self.redQueenRow = None\n",
    "        self.redQueenCol = None        \n",
    "        self.blueQueenRow = None\n",
    "        self.blueQueenCol = None\n",
    "        self.board = np.ones([8,8,3])\n",
    "        for i in np.ndindex(8,8):\n",
    "            row = i[0]\n",
    "            col = i[1]\n",
    "            if row%2 != col%2:\n",
    "                self.board[row, col] = [0,0,0]\n",
    "            print(i, self.board[i])\n",
    "    \n",
    "    def add_red(self, row, col):\n",
    "        self.redQueenRow = row\n",
    "        self.redQueenCol = col\n",
    "        self.board[row, col] = self.red # change to red\n",
    "    \n",
    "    def add_blue(self, row, col):\n",
    "        self.blueQueenRow = row\n",
    "        self.blueQueenCol = col\n",
    "        self.board[row, col] = self.blue # change to blue\n",
    "    \n",
    "    def render(self):\n",
    "        plt.imshow(self.board) # ploting\n",
    "    \n",
    "    def is_under_attack(self):\n",
    "        underAttack = False \n",
    "        if self.redQueenRow == self.blueQueenRow:\n",
    "            underAttack = True\n",
    "            return underAttack\n",
    "        if self.redQueenCol == self.blueQueenCol:\n",
    "            underAttack = True\n",
    "            return underAttack\n",
    "        if abs(self.redQueenCol - self.blueQueenCol) == abs(self.redQueenRow - self.blueQueenRow):\n",
    "            underAttack = True\n",
    "            return underAttack\n",
    "        return underAttack\n",
    "        "
   ]
  },
  {
   "cell_type": "markdown",
   "metadata": {},
   "source": [
    "**Creating object from class ChessBoard**"
   ]
  },
  {
   "cell_type": "code",
   "execution_count": 99,
   "metadata": {},
   "outputs": [
    {
     "name": "stdout",
     "output_type": "stream",
     "text": [
      "(0, 0) [1. 1. 1.]\n",
      "(0, 1) [0. 0. 0.]\n",
      "(0, 2) [1. 1. 1.]\n",
      "(0, 3) [0. 0. 0.]\n",
      "(0, 4) [1. 1. 1.]\n",
      "(0, 5) [0. 0. 0.]\n",
      "(0, 6) [1. 1. 1.]\n",
      "(0, 7) [0. 0. 0.]\n",
      "(1, 0) [0. 0. 0.]\n",
      "(1, 1) [1. 1. 1.]\n",
      "(1, 2) [0. 0. 0.]\n",
      "(1, 3) [1. 1. 1.]\n",
      "(1, 4) [0. 0. 0.]\n",
      "(1, 5) [1. 1. 1.]\n",
      "(1, 6) [0. 0. 0.]\n",
      "(1, 7) [1. 1. 1.]\n",
      "(2, 0) [1. 1. 1.]\n",
      "(2, 1) [0. 0. 0.]\n",
      "(2, 2) [1. 1. 1.]\n",
      "(2, 3) [0. 0. 0.]\n",
      "(2, 4) [1. 1. 1.]\n",
      "(2, 5) [0. 0. 0.]\n",
      "(2, 6) [1. 1. 1.]\n",
      "(2, 7) [0. 0. 0.]\n",
      "(3, 0) [0. 0. 0.]\n",
      "(3, 1) [1. 1. 1.]\n",
      "(3, 2) [0. 0. 0.]\n",
      "(3, 3) [1. 1. 1.]\n",
      "(3, 4) [0. 0. 0.]\n",
      "(3, 5) [1. 1. 1.]\n",
      "(3, 6) [0. 0. 0.]\n",
      "(3, 7) [1. 1. 1.]\n",
      "(4, 0) [1. 1. 1.]\n",
      "(4, 1) [0. 0. 0.]\n",
      "(4, 2) [1. 1. 1.]\n",
      "(4, 3) [0. 0. 0.]\n",
      "(4, 4) [1. 1. 1.]\n",
      "(4, 5) [0. 0. 0.]\n",
      "(4, 6) [1. 1. 1.]\n",
      "(4, 7) [0. 0. 0.]\n",
      "(5, 0) [0. 0. 0.]\n",
      "(5, 1) [1. 1. 1.]\n",
      "(5, 2) [0. 0. 0.]\n",
      "(5, 3) [1. 1. 1.]\n",
      "(5, 4) [0. 0. 0.]\n",
      "(5, 5) [1. 1. 1.]\n",
      "(5, 6) [0. 0. 0.]\n",
      "(5, 7) [1. 1. 1.]\n",
      "(6, 0) [1. 1. 1.]\n",
      "(6, 1) [0. 0. 0.]\n",
      "(6, 2) [1. 1. 1.]\n",
      "(6, 3) [0. 0. 0.]\n",
      "(6, 4) [1. 1. 1.]\n",
      "(6, 5) [0. 0. 0.]\n",
      "(6, 6) [1. 1. 1.]\n",
      "(6, 7) [0. 0. 0.]\n",
      "(7, 0) [0. 0. 0.]\n",
      "(7, 1) [1. 1. 1.]\n",
      "(7, 2) [0. 0. 0.]\n",
      "(7, 3) [1. 1. 1.]\n",
      "(7, 4) [0. 0. 0.]\n",
      "(7, 5) [1. 1. 1.]\n",
      "(7, 6) [0. 0. 0.]\n",
      "(7, 7) [1. 1. 1.]\n"
     ]
    }
   ],
   "source": [
    "chess_board = ChessBoard()"
   ]
  },
  {
   "cell_type": "markdown",
   "metadata": {},
   "source": [
    "**Testing the add_red, add_blue and render methods**"
   ]
  },
  {
   "cell_type": "code",
   "execution_count": 100,
   "metadata": {},
   "outputs": [
    {
     "name": "stderr",
     "output_type": "stream",
     "text": [
      "Clipping input data to the valid range for imshow with RGB data ([0..1] for floats or [0..255] for integers).\n"
     ]
    },
    {
     "data": {
      "image/png": "[encoded data removed]",
      "text/plain": [
       "<Figure size 432x288 with 1 Axes>"
      ]
     },
     "metadata": {
      "needs_background": "light"
     },
     "output_type": "display_data"
    }
   ],
   "source": [
    "chess_board.add_red(0, 0)\n",
    "chess_board.add_blue(7, 7)\n",
    "chess_board.render()"
   ]
  },
  {
   "cell_type": "code",
   "execution_count": 101,
   "metadata": {},
   "outputs": [
    {
     "name": "stdout",
     "output_type": "stream",
     "text": [
      "True\n"
     ]
    }
   ],
   "source": [
    "print(chess_board.is_under_attack())"
   ]
  },
  {
   "cell_type": "markdown",
   "metadata": {},
   "source": [
    "# Testing "
   ]
  },
  {
   "cell_type": "code",
   "execution_count": 102,
   "metadata": {},
   "outputs": [
    {
     "name": "stdout",
     "output_type": "stream",
     "text": [
      "(0, 0) [1. 1. 1.]\n",
      "(0, 1) [0. 0. 0.]\n",
      "(0, 2) [1. 1. 1.]\n",
      "(0, 3) [0. 0. 0.]\n",
      "(0, 4) [1. 1. 1.]\n",
      "(0, 5) [0. 0. 0.]\n",
      "(0, 6) [1. 1. 1.]\n",
      "(0, 7) [0. 0. 0.]\n",
      "(1, 0) [0. 0. 0.]\n",
      "(1, 1) [1. 1. 1.]\n",
      "(1, 2) [0. 0. 0.]\n",
      "(1, 3) [1. 1. 1.]\n",
      "(1, 4) [0. 0. 0.]\n",
      "(1, 5) [1. 1. 1.]\n",
      "(1, 6) [0. 0. 0.]\n",
      "(1, 7) [1. 1. 1.]\n",
      "(2, 0) [1. 1. 1.]\n",
      "(2, 1) [0. 0. 0.]\n",
      "(2, 2) [1. 1. 1.]\n",
      "(2, 3) [0. 0. 0.]\n",
      "(2, 4) [1. 1. 1.]\n",
      "(2, 5) [0. 0. 0.]\n",
      "(2, 6) [1. 1. 1.]\n",
      "(2, 7) [0. 0. 0.]\n",
      "(3, 0) [0. 0. 0.]\n",
      "(3, 1) [1. 1. 1.]\n",
      "(3, 2) [0. 0. 0.]\n",
      "(3, 3) [1. 1. 1.]\n",
      "(3, 4) [0. 0. 0.]\n",
      "(3, 5) [1. 1. 1.]\n",
      "(3, 6) [0. 0. 0.]\n",
      "(3, 7) [1. 1. 1.]\n",
      "(4, 0) [1. 1. 1.]\n",
      "(4, 1) [0. 0. 0.]\n",
      "(4, 2) [1. 1. 1.]\n",
      "(4, 3) [0. 0. 0.]\n",
      "(4, 4) [1. 1. 1.]\n",
      "(4, 5) [0. 0. 0.]\n",
      "(4, 6) [1. 1. 1.]\n",
      "(4, 7) [0. 0. 0.]\n",
      "(5, 0) [0. 0. 0.]\n",
      "(5, 1) [1. 1. 1.]\n",
      "(5, 2) [0. 0. 0.]\n",
      "(5, 3) [1. 1. 1.]\n",
      "(5, 4) [0. 0. 0.]\n",
      "(5, 5) [1. 1. 1.]\n",
      "(5, 6) [0. 0. 0.]\n",
      "(5, 7) [1. 1. 1.]\n",
      "(6, 0) [1. 1. 1.]\n",
      "(6, 1) [0. 0. 0.]\n",
      "(6, 2) [1. 1. 1.]\n",
      "(6, 3) [0. 0. 0.]\n",
      "(6, 4) [1. 1. 1.]\n",
      "(6, 5) [0. 0. 0.]\n",
      "(6, 6) [1. 1. 1.]\n",
      "(6, 7) [0. 0. 0.]\n",
      "(7, 0) [0. 0. 0.]\n",
      "(7, 1) [1. 1. 1.]\n",
      "(7, 2) [0. 0. 0.]\n",
      "(7, 3) [1. 1. 1.]\n",
      "(7, 4) [0. 0. 0.]\n",
      "(7, 5) [1. 1. 1.]\n",
      "(7, 6) [0. 0. 0.]\n",
      "(7, 7) [1. 1. 1.]\n"
     ]
    }
   ],
   "source": [
    "newBoard = ChessBoard()\n",
    "assert newBoard.red == [255, 0, 0]\n",
    "assert newBoard.blue == [0, 0, 255]"
   ]
  },
  {
   "cell_type": "code",
   "execution_count": 103,
   "metadata": {},
   "outputs": [
    {
     "name": "stderr",
     "output_type": "stream",
     "text": [
      "Clipping input data to the valid range for imshow with RGB data ([0..1] for floats or [0..255] for integers).\n"
     ]
    },
    {
     "data": {
      "image/png": "[encoded data removed]",
      "text/plain": [
       "<Figure size 432x288 with 1 Axes>"
      ]
     },
     "metadata": {
      "needs_background": "light"
     },
     "output_type": "display_data"
    }
   ],
   "source": [
    "newBoard.add_red(0, 0)\n",
    "newBoard.add_blue(7, 5)\n",
    "newBoard.render()\n",
    "assert newBoard.is_under_attack() == False"
   ]
  },
  {
   "cell_type": "code",
   "execution_count": 104,
   "metadata": {},
   "outputs": [
    {
     "name": "stderr",
     "output_type": "stream",
     "text": [
      "Clipping input data to the valid range for imshow with RGB data ([0..1] for floats or [0..255] for integers).\n"
     ]
    },
    {
     "name": "stdout",
     "output_type": "stream",
     "text": [
      "(0, 0) [1. 1. 1.]\n",
      "(0, 1) [0. 0. 0.]\n",
      "(0, 2) [1. 1. 1.]\n",
      "(0, 3) [0. 0. 0.]\n",
      "(0, 4) [1. 1. 1.]\n",
      "(0, 5) [0. 0. 0.]\n",
      "(0, 6) [1. 1. 1.]\n",
      "(0, 7) [0. 0. 0.]\n",
      "(1, 0) [0. 0. 0.]\n",
      "(1, 1) [1. 1. 1.]\n",
      "(1, 2) [0. 0. 0.]\n",
      "(1, 3) [1. 1. 1.]\n",
      "(1, 4) [0. 0. 0.]\n",
      "(1, 5) [1. 1. 1.]\n",
      "(1, 6) [0. 0. 0.]\n",
      "(1, 7) [1. 1. 1.]\n",
      "(2, 0) [1. 1. 1.]\n",
      "(2, 1) [0. 0. 0.]\n",
      "(2, 2) [1. 1. 1.]\n",
      "(2, 3) [0. 0. 0.]\n",
      "(2, 4) [1. 1. 1.]\n",
      "(2, 5) [0. 0. 0.]\n",
      "(2, 6) [1. 1. 1.]\n",
      "(2, 7) [0. 0. 0.]\n",
      "(3, 0) [0. 0. 0.]\n",
      "(3, 1) [1. 1. 1.]\n",
      "(3, 2) [0. 0. 0.]\n",
      "(3, 3) [1. 1. 1.]\n",
      "(3, 4) [0. 0. 0.]\n",
      "(3, 5) [1. 1. 1.]\n",
      "(3, 6) [0. 0. 0.]\n",
      "(3, 7) [1. 1. 1.]\n",
      "(4, 0) [1. 1. 1.]\n",
      "(4, 1) [0. 0. 0.]\n",
      "(4, 2) [1. 1. 1.]\n",
      "(4, 3) [0. 0. 0.]\n",
      "(4, 4) [1. 1. 1.]\n",
      "(4, 5) [0. 0. 0.]\n",
      "(4, 6) [1. 1. 1.]\n",
      "(4, 7) [0. 0. 0.]\n",
      "(5, 0) [0. 0. 0.]\n",
      "(5, 1) [1. 1. 1.]\n",
      "(5, 2) [0. 0. 0.]\n",
      "(5, 3) [1. 1. 1.]\n",
      "(5, 4) [0. 0. 0.]\n",
      "(5, 5) [1. 1. 1.]\n",
      "(5, 6) [0. 0. 0.]\n",
      "(5, 7) [1. 1. 1.]\n",
      "(6, 0) [1. 1. 1.]\n",
      "(6, 1) [0. 0. 0.]\n",
      "(6, 2) [1. 1. 1.]\n",
      "(6, 3) [0. 0. 0.]\n",
      "(6, 4) [1. 1. 1.]\n",
      "(6, 5) [0. 0. 0.]\n",
      "(6, 6) [1. 1. 1.]\n",
      "(6, 7) [0. 0. 0.]\n",
      "(7, 0) [0. 0. 0.]\n",
      "(7, 1) [1. 1. 1.]\n",
      "(7, 2) [0. 0. 0.]\n",
      "(7, 3) [1. 1. 1.]\n",
      "(7, 4) [0. 0. 0.]\n",
      "(7, 5) [1. 1. 1.]\n",
      "(7, 6) [0. 0. 0.]\n",
      "(7, 7) [1. 1. 1.]\n"
     ]
    },
    {
     "data": {
      "image/png": "[encoded data removed]",
      "text/plain": [
       "<Figure size 432x288 with 1 Axes>"
      ]
     },
     "metadata": {
      "needs_background": "light"
     },
     "output_type": "display_data"
    }
   ],
   "source": [
    "newBoard = ChessBoard()\n",
    "newBoard.add_red(0, 0)\n",
    "newBoard.add_blue(7, 7)\n",
    "newBoard.render()\n",
    "assert newBoard.is_under_attack() == True"
   ]
  },
  {
   "cell_type": "code",
   "execution_count": 105,
   "metadata": {},
   "outputs": [
    {
     "name": "stderr",
     "output_type": "stream",
     "text": [
      "Clipping input data to the valid range for imshow with RGB data ([0..1] for floats or [0..255] for integers).\n"
     ]
    },
    {
     "name": "stdout",
     "output_type": "stream",
     "text": [
      "(0, 0) [1. 1. 1.]\n",
      "(0, 1) [0. 0. 0.]\n",
      "(0, 2) [1. 1. 1.]\n",
      "(0, 3) [0. 0. 0.]\n",
      "(0, 4) [1. 1. 1.]\n",
      "(0, 5) [0. 0. 0.]\n",
      "(0, 6) [1. 1. 1.]\n",
      "(0, 7) [0. 0. 0.]\n",
      "(1, 0) [0. 0. 0.]\n",
      "(1, 1) [1. 1. 1.]\n",
      "(1, 2) [0. 0. 0.]\n",
      "(1, 3) [1. 1. 1.]\n",
      "(1, 4) [0. 0. 0.]\n",
      "(1, 5) [1. 1. 1.]\n",
      "(1, 6) [0. 0. 0.]\n",
      "(1, 7) [1. 1. 1.]\n",
      "(2, 0) [1. 1. 1.]\n",
      "(2, 1) [0. 0. 0.]\n",
      "(2, 2) [1. 1. 1.]\n",
      "(2, 3) [0. 0. 0.]\n",
      "(2, 4) [1. 1. 1.]\n",
      "(2, 5) [0. 0. 0.]\n",
      "(2, 6) [1. 1. 1.]\n",
      "(2, 7) [0. 0. 0.]\n",
      "(3, 0) [0. 0. 0.]\n",
      "(3, 1) [1. 1. 1.]\n",
      "(3, 2) [0. 0. 0.]\n",
      "(3, 3) [1. 1. 1.]\n",
      "(3, 4) [0. 0. 0.]\n",
      "(3, 5) [1. 1. 1.]\n",
      "(3, 6) [0. 0. 0.]\n",
      "(3, 7) [1. 1. 1.]\n",
      "(4, 0) [1. 1. 1.]\n",
      "(4, 1) [0. 0. 0.]\n",
      "(4, 2) [1. 1. 1.]\n",
      "(4, 3) [0. 0. 0.]\n",
      "(4, 4) [1. 1. 1.]\n",
      "(4, 5) [0. 0. 0.]\n",
      "(4, 6) [1. 1. 1.]\n",
      "(4, 7) [0. 0. 0.]\n",
      "(5, 0) [0. 0. 0.]\n",
      "(5, 1) [1. 1. 1.]\n",
      "(5, 2) [0. 0. 0.]\n",
      "(5, 3) [1. 1. 1.]\n",
      "(5, 4) [0. 0. 0.]\n",
      "(5, 5) [1. 1. 1.]\n",
      "(5, 6) [0. 0. 0.]\n",
      "(5, 7) [1. 1. 1.]\n",
      "(6, 0) [1. 1. 1.]\n",
      "(6, 1) [0. 0. 0.]\n",
      "(6, 2) [1. 1. 1.]\n",
      "(6, 3) [0. 0. 0.]\n",
      "(6, 4) [1. 1. 1.]\n",
      "(6, 5) [0. 0. 0.]\n",
      "(6, 6) [1. 1. 1.]\n",
      "(6, 7) [0. 0. 0.]\n",
      "(7, 0) [0. 0. 0.]\n",
      "(7, 1) [1. 1. 1.]\n",
      "(7, 2) [0. 0. 0.]\n",
      "(7, 3) [1. 1. 1.]\n",
      "(7, 4) [0. 0. 0.]\n",
      "(7, 5) [1. 1. 1.]\n",
      "(7, 6) [0. 0. 0.]\n",
      "(7, 7) [1. 1. 1.]\n"
     ]
    },
    {
     "data": {
      "image/png": "[encoded data removed]",
      "text/plain": [
       "<Figure size 432x288 with 1 Axes>"
      ]
     },
     "metadata": {
      "needs_background": "light"
     },
     "output_type": "display_data"
    }
   ],
   "source": [
    "newBoard = ChessBoard()\n",
    "newBoard.add_red(0, 0)\n",
    "newBoard.add_blue(0, 7)\n",
    "newBoard.render()\n",
    "assert newBoard.is_under_attack() == True"
   ]
  },
  {
   "cell_type": "code",
   "execution_count": 106,
   "metadata": {},
   "outputs": [
    {
     "name": "stderr",
     "output_type": "stream",
     "text": [
      "Clipping input data to the valid range for imshow with RGB data ([0..1] for floats or [0..255] for integers).\n"
     ]
    },
    {
     "name": "stdout",
     "output_type": "stream",
     "text": [
      "(0, 0) [1. 1. 1.]\n",
      "(0, 1) [0. 0. 0.]\n",
      "(0, 2) [1. 1. 1.]\n",
      "(0, 3) [0. 0. 0.]\n",
      "(0, 4) [1. 1. 1.]\n",
      "(0, 5) [0. 0. 0.]\n",
      "(0, 6) [1. 1. 1.]\n",
      "(0, 7) [0. 0. 0.]\n",
      "(1, 0) [0. 0. 0.]\n",
      "(1, 1) [1. 1. 1.]\n",
      "(1, 2) [0. 0. 0.]\n",
      "(1, 3) [1. 1. 1.]\n",
      "(1, 4) [0. 0. 0.]\n",
      "(1, 5) [1. 1. 1.]\n",
      "(1, 6) [0. 0. 0.]\n",
      "(1, 7) [1. 1. 1.]\n",
      "(2, 0) [1. 1. 1.]\n",
      "(2, 1) [0. 0. 0.]\n",
      "(2, 2) [1. 1. 1.]\n",
      "(2, 3) [0. 0. 0.]\n",
      "(2, 4) [1. 1. 1.]\n",
      "(2, 5) [0. 0. 0.]\n",
      "(2, 6) [1. 1. 1.]\n",
      "(2, 7) [0. 0. 0.]\n",
      "(3, 0) [0. 0. 0.]\n",
      "(3, 1) [1. 1. 1.]\n",
      "(3, 2) [0. 0. 0.]\n",
      "(3, 3) [1. 1. 1.]\n",
      "(3, 4) [0. 0. 0.]\n",
      "(3, 5) [1. 1. 1.]\n",
      "(3, 6) [0. 0. 0.]\n",
      "(3, 7) [1. 1. 1.]\n",
      "(4, 0) [1. 1. 1.]\n",
      "(4, 1) [0. 0. 0.]\n",
      "(4, 2) [1. 1. 1.]\n",
      "(4, 3) [0. 0. 0.]\n",
      "(4, 4) [1. 1. 1.]\n",
      "(4, 5) [0. 0. 0.]\n",
      "(4, 6) [1. 1. 1.]\n",
      "(4, 7) [0. 0. 0.]\n",
      "(5, 0) [0. 0. 0.]\n",
      "(5, 1) [1. 1. 1.]\n",
      "(5, 2) [0. 0. 0.]\n",
      "(5, 3) [1. 1. 1.]\n",
      "(5, 4) [0. 0. 0.]\n",
      "(5, 5) [1. 1. 1.]\n",
      "(5, 6) [0. 0. 0.]\n",
      "(5, 7) [1. 1. 1.]\n",
      "(6, 0) [1. 1. 1.]\n",
      "(6, 1) [0. 0. 0.]\n",
      "(6, 2) [1. 1. 1.]\n",
      "(6, 3) [0. 0. 0.]\n",
      "(6, 4) [1. 1. 1.]\n",
      "(6, 5) [0. 0. 0.]\n",
      "(6, 6) [1. 1. 1.]\n",
      "(6, 7) [0. 0. 0.]\n",
      "(7, 0) [0. 0. 0.]\n",
      "(7, 1) [1. 1. 1.]\n",
      "(7, 2) [0. 0. 0.]\n",
      "(7, 3) [1. 1. 1.]\n",
      "(7, 4) [0. 0. 0.]\n",
      "(7, 5) [1. 1. 1.]\n",
      "(7, 6) [0. 0. 0.]\n",
      "(7, 7) [1. 1. 1.]\n"
     ]
    },
    {
     "data": {
      "image/png": "[encoded data removed]",
      "text/plain": [
       "<Figure size 432x288 with 1 Axes>"
      ]
     },
     "metadata": {
      "needs_background": "light"
     },
     "output_type": "display_data"
    }
   ],
   "source": [
    "newBoard = ChessBoard()\n",
    "newBoard.add_red(2, 5)\n",
    "newBoard.add_blue(6, 5)\n",
    "newBoard.render()\n",
    "assert newBoard.is_under_attack() == True"
   ]
  }
 ],
 "metadata": {
  "interpreter": {
   "hash": "e55666fbbf217aa3df372b978577f47b6009e2f78e2ec76a584f49cd54a1e62c"
  },
  "kernelspec": {
   "display_name": "Python 3 (ipykernel)",
   "language": "python",
   "name": "python3"
  },
  "language_info": {
   "codemirror_mode": {
    "name": "ipython",
    "version": 3
   },
   "file_extension": ".py",
   "mimetype": "text/x-python",
   "name": "python",
   "nbconvert_exporter": "python",
   "pygments_lexer": "ipython3",
   "version": "3.8.10"
  }
 },
 "nbformat": 4,
 "nbformat_minor": 4
}
