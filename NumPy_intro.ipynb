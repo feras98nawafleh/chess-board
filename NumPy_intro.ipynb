{
 "cells": [
  {
   "cell_type": "markdown",
   "id": "d93e1acd-9231-477c-8544-e29670b73bfc",
   "metadata": {},
   "source": [
    "# Getting started with numpy and jupyterlab"
   ]
  },
  {
   "cell_type": "code",
   "execution_count": 2,
   "id": "35b1ff65-6718-4255-bfef-902402e9f78a",
   "metadata": {},
   "outputs": [],
   "source": [
    "import numpy as np"
   ]
  },
  {
   "cell_type": "code",
   "execution_count": 3,
   "id": "12ff124b-9dbe-437b-bafa-d02136cb1720",
   "metadata": {},
   "outputs": [
    {
     "data": {
      "text/plain": [
       "<module 'numpy' from '/home/ferasnawafleh/.cache/pypoetry/virtualenvs/chess-board-XkUPk6Wf-py3.8/lib/python3.8/site-packages/numpy/__init__.py'>"
      ]
     },
     "execution_count": 3,
     "metadata": {},
     "output_type": "execute_result"
    }
   ],
   "source": [
    "np"
   ]
  },
  {
   "cell_type": "code",
   "execution_count": 7,
   "id": "02107803-eb2c-4961-80a7-45a5ce575496",
   "metadata": {},
   "outputs": [],
   "source": [
    "nums = [1, 2, 3, 4, 5]"
   ]
  },
  {
   "cell_type": "code",
   "execution_count": 8,
   "id": "edcdf769-b2e6-4161-a5c2-4de852a38449",
   "metadata": {},
   "outputs": [
    {
     "data": {
      "text/plain": [
       "[1, 2, 3, 4, 5]"
      ]
     },
     "execution_count": 8,
     "metadata": {},
     "output_type": "execute_result"
    }
   ],
   "source": [
    "nums"
   ]
  },
  {
   "cell_type": "code",
   "execution_count": 9,
   "id": "580259ab-2211-4fed-a585-b21feac72536",
   "metadata": {},
   "outputs": [],
   "source": [
    "nums_as_np = np.array(nums)"
   ]
  },
  {
   "cell_type": "code",
   "execution_count": 10,
   "id": "d823786c-673b-4682-bf34-eb2b91ba2acd",
   "metadata": {},
   "outputs": [
    {
     "data": {
      "text/plain": [
       "array([1, 2, 3, 4, 5])"
      ]
     },
     "execution_count": 10,
     "metadata": {},
     "output_type": "execute_result"
    }
   ],
   "source": [
    "nums_as_np"
   ]
  },
  {
   "cell_type": "code",
   "execution_count": 11,
   "id": "360b7f08-7952-428d-a3be-af5c0136d13a",
   "metadata": {},
   "outputs": [
    {
     "data": {
      "text/plain": [
       "numpy.ndarray"
      ]
     },
     "execution_count": 11,
     "metadata": {},
     "output_type": "execute_result"
    }
   ],
   "source": [
    "type(nums_as_np)"
   ]
  },
  {
   "cell_type": "code",
   "execution_count": 12,
   "id": "5287d52b-f517-4d2b-a28d-85d7b144c881",
   "metadata": {},
   "outputs": [
    {
     "data": {
      "text/plain": [
       "array([1, 2, 3, 4, 5])"
      ]
     },
     "execution_count": 12,
     "metadata": {},
     "output_type": "execute_result"
    }
   ],
   "source": [
    "nums_as_np"
   ]
  },
  {
   "cell_type": "code",
   "execution_count": 16,
   "id": "378936d2-94f8-4541-b564-992f3e2d2a46",
   "metadata": {},
   "outputs": [],
   "source": [
    "two_dm_arr = np.array([nums_as_np, [6, 7, 8, 9, 10]])"
   ]
  },
  {
   "cell_type": "code",
   "execution_count": 17,
   "id": "026ef7d1-1e65-4b98-b1e9-74b575678ae9",
   "metadata": {},
   "outputs": [
    {
     "data": {
      "text/plain": [
       "array([[ 1,  2,  3,  4,  5],\n",
       "       [ 6,  7,  8,  9, 10]])"
      ]
     },
     "execution_count": 17,
     "metadata": {},
     "output_type": "execute_result"
    }
   ],
   "source": [
    "two_dm_arr"
   ]
  },
  {
   "cell_type": "code",
   "execution_count": 19,
   "id": "01b2609c-56c5-41f4-b0c4-e74e0186db49",
   "metadata": {},
   "outputs": [
    {
     "data": {
      "text/plain": [
       "(2, 5)"
      ]
     },
     "execution_count": 19,
     "metadata": {},
     "output_type": "execute_result"
    }
   ],
   "source": [
    "two_dm_arr.shape"
   ]
  },
  {
   "cell_type": "code",
   "execution_count": 30,
   "id": "1ce2a560-8775-496f-8547-857ac94ba8b3",
   "metadata": {},
   "outputs": [
    {
     "data": {
      "text/plain": [
       "array([3, 8])"
      ]
     },
     "execution_count": 30,
     "metadata": {},
     "output_type": "execute_result"
    }
   ],
   "source": [
    "two_dm_arr[0:2,2]"
   ]
  },
  {
   "cell_type": "markdown",
   "id": "51ba76dd-d6bc-43c2-b2f3-ffd0a70efdbc",
   "metadata": {},
   "source": [
    "## Dealing with files"
   ]
  },
  {
   "cell_type": "code",
   "execution_count": 37,
   "id": "9a667ba5-e769-4f0a-9cf1-20cadefa1fea",
   "metadata": {},
   "outputs": [
    {
     "name": "stdout",
     "output_type": "stream",
     "text": [
      "Hours,Scores\n",
      "2.5,21\n",
      "5.1,47\n",
      "3.2,27\n",
      "8.5,75\n",
      "3.5,30\n",
      "1.5,20\n",
      "9.2,88\n",
      "5.5,60\n",
      "8.3,81\n",
      "2.7,25\n",
      "7.7,85\n",
      "5.9,62\n",
      "4.5,41\n",
      "3.3,42\n",
      "1.1,17\n",
      "8.9,95\n",
      "2.5,30\n",
      "1.9,24\n",
      "6.1,67\n",
      "7.4,69\n",
      "2.7,30\n",
      "4.8,54\n",
      "3.8,35\n",
      "6.9,76\n",
      "7.8,86\n"
     ]
    }
   ],
   "source": [
    "with open('student_scores.csv') as SS:\n",
    "    print(SS.read())"
   ]
  },
  {
   "cell_type": "code",
   "execution_count": 43,
   "id": "5af1e516-ecd3-4743-bd80-a624a3365700",
   "metadata": {},
   "outputs": [],
   "source": [
    "dataset = np.genfromtxt('student_scores.csv', delimiter=',',skip_header=True)"
   ]
  },
  {
   "cell_type": "code",
   "execution_count": 44,
   "id": "41325246-50fe-408a-a39a-f5ad69a99d3c",
   "metadata": {},
   "outputs": [
    {
     "data": {
      "text/plain": [
       "(25, 2)"
      ]
     },
     "execution_count": 44,
     "metadata": {},
     "output_type": "execute_result"
    }
   ],
   "source": [
    "dataset.shape"
   ]
  },
  {
   "cell_type": "code",
   "execution_count": 45,
   "id": "11425223-eccd-481e-9e57-f040c6935762",
   "metadata": {},
   "outputs": [
    {
     "data": {
      "text/plain": [
       "array([[ 2.5, 21. ],\n",
       "       [ 5.1, 47. ],\n",
       "       [ 3.2, 27. ],\n",
       "       [ 8.5, 75. ],\n",
       "       [ 3.5, 30. ],\n",
       "       [ 1.5, 20. ],\n",
       "       [ 9.2, 88. ],\n",
       "       [ 5.5, 60. ],\n",
       "       [ 8.3, 81. ],\n",
       "       [ 2.7, 25. ],\n",
       "       [ 7.7, 85. ],\n",
       "       [ 5.9, 62. ],\n",
       "       [ 4.5, 41. ],\n",
       "       [ 3.3, 42. ],\n",
       "       [ 1.1, 17. ],\n",
       "       [ 8.9, 95. ],\n",
       "       [ 2.5, 30. ],\n",
       "       [ 1.9, 24. ],\n",
       "       [ 6.1, 67. ],\n",
       "       [ 7.4, 69. ],\n",
       "       [ 2.7, 30. ],\n",
       "       [ 4.8, 54. ],\n",
       "       [ 3.8, 35. ],\n",
       "       [ 6.9, 76. ],\n",
       "       [ 7.8, 86. ]])"
      ]
     },
     "execution_count": 45,
     "metadata": {},
     "output_type": "execute_result"
    }
   ],
   "source": [
    "dataset"
   ]
  },
  {
   "cell_type": "code",
   "execution_count": 52,
   "id": "9cc329b1-04c4-4321-9183-db35d0bee9cf",
   "metadata": {},
   "outputs": [
    {
     "data": {
      "text/plain": [
       "array([2.5, 5.1, 3.2, 8.5, 3.5, 1.5, 9.2, 5.5, 8.3, 2.7, 7.7, 5.9, 4.5,\n",
       "       3.3, 1.1, 8.9, 2.5, 1.9, 6.1, 7.4, 2.7, 4.8, 3.8, 6.9, 7.8])"
      ]
     },
     "execution_count": 52,
     "metadata": {},
     "output_type": "execute_result"
    }
   ],
   "source": [
    "hours = dataset[:,0]\n",
    "hours"
   ]
  },
  {
   "cell_type": "code",
   "execution_count": 55,
   "id": "0e103575-a171-4048-b6e1-0d1ab0f499a6",
   "metadata": {},
   "outputs": [
    {
     "data": {
      "text/plain": [
       "5.012"
      ]
     },
     "execution_count": 55,
     "metadata": {},
     "output_type": "execute_result"
    }
   ],
   "source": [
    "avg_hours = np.sum(hours)/25\n",
    "avg_hours"
   ]
  },
  {
   "cell_type": "code",
   "execution_count": 56,
   "id": "d200fa56-b86d-4d27-b271-c38512aec9d1",
   "metadata": {},
   "outputs": [
    {
     "data": {
      "text/plain": [
       "5.012"
      ]
     },
     "execution_count": 56,
     "metadata": {},
     "output_type": "execute_result"
    }
   ],
   "source": [
    "np.mean(hours)"
   ]
  },
  {
   "cell_type": "code",
   "execution_count": 57,
   "id": "6d0e157b-e002-4287-9f87-febcc2190901",
   "metadata": {},
   "outputs": [
    {
     "data": {
      "text/plain": [
       "4.8"
      ]
     },
     "execution_count": 57,
     "metadata": {},
     "output_type": "execute_result"
    }
   ],
   "source": [
    "np.median(hours)"
   ]
  },
  {
   "cell_type": "code",
   "execution_count": 68,
   "id": "38f967d6-ef94-44ef-b92c-675ab1a8d123",
   "metadata": {},
   "outputs": [
    {
     "data": {
      "text/plain": [
       "array([[[1., 1., 1., 1., 1., 1., 1., 1.],\n",
       "        [1., 1., 1., 1., 1., 1., 1., 1.],\n",
       "        [1., 1., 1., 1., 1., 1., 1., 1.],\n",
       "        [1., 1., 1., 1., 1., 1., 1., 1.],\n",
       "        [1., 1., 1., 1., 1., 1., 1., 1.],\n",
       "        [1., 1., 1., 1., 1., 1., 1., 1.],\n",
       "        [1., 1., 1., 1., 1., 1., 1., 1.],\n",
       "        [1., 1., 1., 1., 1., 1., 1., 1.]]])"
      ]
     },
     "execution_count": 68,
     "metadata": {},
     "output_type": "execute_result"
    }
   ],
   "source": [
    "np.ones([1, 8, 8])"
   ]
  },
  {
   "cell_type": "code",
   "execution_count": null,
   "id": "2b2fef7d-21e5-4bba-a550-961659415d97",
   "metadata": {},
   "outputs": [],
   "source": []
  }
 ],
 "metadata": {
  "kernelspec": {
   "display_name": "Python 3 (ipykernel)",
   "language": "python",
   "name": "python3"
  },
  "language_info": {
   "codemirror_mode": {
    "name": "ipython",
    "version": 3
   },
   "file_extension": ".py",
   "mimetype": "text/x-python",
   "name": "python",
   "nbconvert_exporter": "python",
   "pygments_lexer": "ipython3",
   "version": "3.8.10"
  }
 },
 "nbformat": 4,
 "nbformat_minor": 5
}
